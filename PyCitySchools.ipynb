# PyCitySchools Project
# Author: Anthony (A.J.) Lozito


# Deliverable 1: Replace Ninth-Grade Reading and Math Scores

# Using the Pandas loc method with conditional statements and comparison and logical operators,
# select the ninth-grade reading and math scores for Thomas High School. Then, use the Pandas NumPy
# module to change the reading and math scores to NaN.


# Install numpy using conda install numpy or pip install numpy.


# Step 1. Import numpy as np.
import numpy as np


# Step 2. Use the loc method on the student_data_df to select all the reading scores
# from the 9th grade at Thomas High School and replace them with NaN.

#student_data_df.loc[]
remove_data = student_data_df.loc[(student_data_df["school_name"] == "Thomas High School") & (student_data_df["grade"] == "9th")]


# Step 3.

#Select Reading Scores
student_data_df.loc[(student_data_df["school_name"] == "Thomas High School") & (student_data_df["grade"] == "9th"), "reading_score"] = np.nan


# Select Math Scores
student_data_df.loc[(student_data_df["school_name"] == "Thomas High School") & (student_data_df["grade"] == "9th"), "math_score"] = np.nan


# Step 4. Check the student data to make sure the grades were replaced with NaNs
# Math Check
student_data_df['math_score'].isnull().sum()

# Reading Check
student_data_df['reading_score'].isnull().sum()

student_data_df.tail(10)


# Deliverable 2: Repeat the School District Analysis


# Step 1. Using the loc method with logical and comparison operators, 
# retrieve the student count for Thomas High School ninth graders in
# the school_data_complete_df DataFrame.


# Combine the datasets
school_data_complete_df = pd.merge(student_data_df, school_data_df, how="left", on=["school_name", "school_name"])
school_data_complete_df.head()

# Calculate the Total Counts of the Schools and Students
school_count = len(school_data_complete_df["school_name"].unique())
student_count = school_data_complete_df["Student ID"].count()

# Calculate the Total Budget
total_budget = school_data_df["budget"].sum()

# Calculate the Average Scores using the clean_students_complete data
average_reading_score = school_data_complete_df["reading_score"].mean()
average_math_score = school_data_complete_df["math_score"].mean()

# Retrieve the student count for Thomas High School ninth graders
nineth_grade = student_data_df.loc[(student_data_df["school_name"] == "Thomas High School") & (student_data_df["grade"] == "9th")].count()["student_name"]

# Calculate the Total Student Count
student_count = school_data_complete_df["Student ID"].count()


# Step 2. Subtract the number of students retrieved from Step 1 from the total student count to get the new total student count.
new_count = student_count - nineth_grade


# Step 3. Calculate the math and reading passing percentages based on the new total student count.

# Students with a 70 or higher in math or reading
passing_math_count = school_data_complete_df[(school_data_complete_df["math_score"] >= 70)].count()["student_name"]
passing_reading_count = school_data_complete_df[(school_data_complete_df["reading_score"] >= 70)].count()["student_name"]

# Percent of Students who are passing
passing_math_percentage = passing_math_count / new_count * 100
passing_reading_percentage =  passing_reading_count / new_count *100

# Calculate the students who passed both reading and math.
passing_math_reading = school_data_complete_df[(school_data_complete_df["math_score"] >= 70)
                                               & (school_data_complete_df["reading_score"] >= 70)]

# Calculate the number of students that passed both reading and math.
overall_passing_math_reading_count = passing_math_reading["student_name"].count()


# Step 4. Calculate the overall passing percentage with new total student count.
overall_passing_percentage = overall_passing_math_reading_count / new_count *100


# Run the code from this module that creates and formats the School Summary DataFrame.

# Create the School Summary DataFrame
district_summary_df = pd.DataFrame(
          [{"Total Schools": school_count, 
          "Total Students": new_count, 
          "Total Budget": total_budget,
          "Average Math Score": average_math_score, 
          "Average Reading Score": average_reading_score,
          "% Passing Math": passing_math_percentage,
         "% Passing Reading": passing_reading_percentage,
        "% Overall Passing": overall_passing_percentage}])



# Format the Total Students
district_summary_df["Total Students"] = district_summary_df["Total Students"].map("{:,}".format)

# Format the Total Budget
district_summary_df["Total Budget"] = district_summary_df["Total Budget"].map("${:,.2f}".format)

# Format the columns
district_summary_df["Average Math Score"] = district_summary_df["Average Math Score"].map("{:.1f}".format)
district_summary_df["Average Reading Score"] = district_summary_df["Average Reading Score"].map("{:.1f}".format)
district_summary_df["% Passing Math"] = district_summary_df["% Passing Math"].map("{:.1f}".format)
district_summary_df["% Passing Reading"] = district_summary_df["% Passing Reading"].map("{:.1f}".format)
district_summary_df["% Overall Passing"] = district_summary_df["% Overall Passing"].map("{:.1f}".format)

# Display the data frame
district_summary_df

# Determine the School Type
school_types = school_data_df.set_index(["school_name"])["type"]

# Calculate the total student count
school_counts = school_data_complete_df["school_name"].value_counts()

# Calculate the total school budget and per capita spending
school_budget = school_data_complete_df.groupby(["school_name"]).mean()["budget"]

# Calculate the per capita spending.
school_per_capita = school_budget / school_counts

# Calculate the average test scores
school_math = school_data_complete_df.groupby(["school_name"]).mean()["math_score"]
school_reading = school_data_complete_df.groupby(["school_name"]).mean()["reading_score"]

# Calculate the passing scores by creating a filtered DataFrame
school_passing_math = school_data_complete_df[(school_data_complete_df["math_score"] >= 70)]
school_passing_reading = school_data_complete_df[(school_data_complete_df["reading_score"] >= 70)]

# Calculate the number of students passing math and passing reading by school
school_passing_math = school_passing_math.groupby(["school_name"]).count()["student_name"]
school_passing_reading = school_passing_reading.groupby(["school_name"]).count()["student_name"]

# Calculate the percentage of passing math and reading scores per school
school_passing_math = school_passing_math / school_counts * 100
school_passing_reading = school_passing_reading / school_counts * 100

# Calculate the students who passed both reading and math
per_passing_math_reading = school_data_complete_df[(school_data_complete_df["reading_score"] >= 70)
                                               & (school_data_complete_df["math_score"] >= 70)]

# Calculate the number of students passing math and passing reading by school
per_passing_math_reading = per_passing_math_reading.groupby(["school_name"]).count()["student_name"]

# Calculate the percentage of passing math and reading scores per school
per_overall_passing_percentage = per_passing_math_reading / school_counts * 100

# Create Overview Summary DataFrame
school_summary_df = pd.DataFrame({
    "School Type": school_types,
    "Total Students": school_counts,
    "Total School Budget": school_budget,
    "Per Student Budget": school_capita,
    "Average Math Score": school_math,
    "Average Reading Score": school_reading,
    "% Passing Math": school_passing_math,
    "% Passing Reading": school_passing_reading,
    "% Overall Passing": overall_passing_percentage})


# school_summary_df.head()

# Format the Total School Budget and the Per Student Budget
school_summary_df["Total School Budget"] = school_summary_df["Total School Budget"].map("${:,.2f}".format)
school_summary_df["Per Student Budget"] = school_summary_df["Per Student Budget"].map("${:,.2f}".format)

# Display the data frame
school_summary_df


# Step 5. Get the number of 10th-12th grade students from Thomas High School
tenth_graders = school_data_complete_df.loc[(school_data_complete_df["grade"]== "10th")&(school_data_complete_df["school_name"]=="Thomas High School")].count()['Student ID']
eleventh_graders = school_data_complete_df.loc[(school_data_complete_df["grade"]== "11th")&(school_data_complete_df["school_name"]=="Thomas High School")].count()['Student ID']
twelfth_graders = school_data_complete_df.loc[(school_data_complete_df["grade"]== "12th")&(school_data_complete_df["school_name"]=="Thomas High School")].count()['Student ID']

thomas_total_students_tenth-twelfth = tenth_graders + eleventh_graders + twelfth_graders


# Step 6. Use the loc method to create a new DataFrame that has all the students passing math from Thomas High School
passing_math = school_data_complete_df.loc[(school_data_complete_df["school_name"]=="Thomas High School") & (school_data_complete_df["math_score"] >= 70)].count()["Student ID"]


# Step 7. Use the loc method to create a new DataFrame that has all the students passing reading from Thomas High School
passing_reading = school_data_complete_df.loc[(school_data_complete_df["school_name"]=="Thomas High School")&(school_data_complete_df["reading_score"] >= 70)].count()["Student ID"]


# Step 8. Use the loc method to create a new DataFrame that has all the students passing math and reading from Thomas High School
thomas_students_passing_math_and_reading = school_data_complete_df.loc[(school_data_complete_df["math_score"] >= 70)&(school_data_complete_df["reading_score"] >= 70)&(school_data_complete_df["school_name"]=="Thomas High School")]


# Step 9. Calculate the percentage of 10th-12th grade students passing math from Thomas High School
thomas_passing_math_tenth-twelfth = school_data_complete_df.loc[(school_data_complete_df["grade"]!= "9th")
                                                              &(school_data_complete_df["school_name"]=="Thomas High School") 
                                                              & (school_data_complete_df["math_score"] >= 70)].count()["Student ID"]
thomas_passing_math_tenth-twelfth_percentage = thomas_passing_math_tenth-twelfth / total_students *100


# Step 10. Calculate the percentage of 10th-12th grade students passing reading from Thomas High School
thomas_passing_reading_tenth-twelfth = school_data_complete_df.loc[(school_data_complete_df["grade"]!= "9th")
                                                                 &(school_data_complete_df["school_name"]=="Thomas High School") 
                                                                 & (school_data_complete_df["reading_score"] >= 70)].count()["Student ID"]
THS_passing_reading_tenth-twelfth_percentage = thomas_passing_reading_tenth-twelfth / total_students *100


# Step 11. Calculate the overall passing percentage of 10th-12th grade students from Thomas High School
total_grades = thomas_students_passing_math_and_reading["student_name"].count()

overall_passing_percentage =  total_grades / total_students *100


# Step 12. Use the loc method to replace the % Passing Math score for Thomas High School with the new math
# passing percentage you calculated in Step 9
school_summary_df.loc[["Thomas High School"],['% Passing Math']]= thomas_passing_math_tenth-twelfth_percentage


# Step 13. Use the loc method to replace the % Passing Reading score for Thomas High School with the new reading
# passing percentage you calculated in Step 10
school_summary_df.loc[["Thomas High School"],['% Passing Reading']]= thomas_passing_reading_tenth-twelfth_percentage


# Step 14. Use the loc method to replace the % Overall Passing score for Thomas High School with the new overall passing
# percentage you calculated in Step 11.
school_summary_df.loc[["Thomas High School"],['% Overall Passing']]= overall_passing_percentage

# school_summary_df
school_summary_df

# Sort top five schools based on the overall passing rate
school_summary_df.sort_values(["% Overall Passing"], ascending=False).head(5)

# Sort bottom five schools based on the overall passing rate
school_summary_df.sort_values(["% Overall Passing"], ascending=True).head(5)


# Data Aggregation Process

# Show scores by grade level
scores_ninth_graders = school_data_complete_df[(school_data_complete_df["grade"] == "9th")]

scores_tenth_graders = school_data_complete_df[(school_data_complete_df["grade"] == "10th")]

scores_eleventh_graders = school_data_complete_df[(school_data_complete_df["grade"] == "11th")]

scores_twelfth_graders = school_data_complete_df[(school_data_complete_df["grade"] == "12th")]


# Show schools based the average math scores
ninth_grade_math_scores = scores_ninth_graders.groupby(["school_name"]).mean()["math_score"]

tenth_grade_math_scores = scores_tenth_graders.groupby(["school_name"]).mean()["math_score"]

eleventh_grade_math_scores = scores_eleventh_graders.groupby(["school_name"]).mean()["math_score"]

twelfth_grade_math_scores = scores_twelfth_graders.groupby(["school_name"]).mean()["math_score"]


# Show schools based the average reading score

ninth_grade_reading_scores = scores_ninth_graders.groupby(["school_name"]).mean()["reading_score"]

tenth_grade_reading_scores = scores_tenth_graders.groupby(["school_name"]).mean()["reading_score"]

eleventh_grade_reading_scores = scores_eleventh_graders.groupby(["school_name"]).mean()["reading_score"]

twelfth_grade_reading_scores = scores_twelfth_graders.groupby(["school_name"]).mean()["reading_score"]


# Create a combined data frame based on math scores
math_scores_by_grade = pd.DataFrame({
               "9th": ninth_grade_math_scores,
               "10th": tenth_grade_math_scores,
               "11th": eleventh_grade_math_scores,
               "12th": twelfth_grade_math_scores})

# Create a combined data frame based on reading scores
reading_scores_by_grade = pd.DataFrame({
               "9th": ninth_grade_reading_scores,
               "10th": tenth_grade_reading_scores,
               "11th": eleventh_grade_reading_scores,
               "12th": twelfth_grade_reading_scores})

# Format the math score column
math_scores_by_grade["9th"] = math_scores_by_grade["9th"].map("{:.1f}".format)

math_scores_by_grade["10th"] = math_scores_by_grade["10th"].map("{:.1f}".format)

math_scores_by_grade["11th"] = math_scores_by_grade["11th"].map("{:.1f}".format)

math_scores_by_grade["12th"] = math_scores_by_grade["12th"].map("{:.1f}".format)

# Get rid of the math index
math_scores_by_grade.index.name = None

# Show math scores by grade data frame
math_scores_by_grade.head()


#Format the reading score column
# Get rid of the reading index
reading_scores_by_grade.index.name = None

# Show reading scores by grade data frame
reading_scores_by_grade.head()